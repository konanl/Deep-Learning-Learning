{
 "cells": [
  {
   "cell_type": "markdown",
   "id": "a9bb2a5a",
   "metadata": {},
   "source": [
    "## 绘制图形"
   ]
  },
  {
   "cell_type": "code",
   "execution_count": 2,
   "id": "7060c8ee",
   "metadata": {},
   "outputs": [],
   "source": [
    "import cv2\n",
    "import numpy as np"
   ]
  },
  {
   "cell_type": "code",
   "execution_count": 3,
   "id": "c9fe6f63",
   "metadata": {},
   "outputs": [],
   "source": [
    "# 创建背景\n",
    "img = np.zeros((480, 640, 3), np.uint8)\n",
    "\n",
    "# line\n",
    "cv2.line(img, (0, 0), (100, 200), (0, 0, 255), 5, 4)\n",
    "cv2.line(img, (100, 200), (300, 400), (0, 255, 0), 5, 16)\n",
    "\n",
    "cv2.imshow('draw', img)\n",
    "cv2.waitKey(0)\n",
    "cv2.destroyAllWindows()"
   ]
  },
  {
   "cell_type": "code",
   "execution_count": 5,
   "id": "6de8407e",
   "metadata": {},
   "outputs": [],
   "source": [
    "# rectangle\n",
    "cv2.rectangle(img, (100, 200), (300, 400), (255, 0, 0), 5, 16)\n",
    "cv2.imshow('draw1', img)\n",
    "cv2.waitKey(0)\n",
    "cv2.destroyAllWindows()"
   ]
  },
  {
   "cell_type": "code",
   "execution_count": 8,
   "id": "d53e3758",
   "metadata": {},
   "outputs": [],
   "source": [
    "# circle\n",
    "cv2.circle(img, (320, 240), 100, (0, 0, 255), 5, 16)\n",
    "cv2.imshow('draw2', img)\n",
    "cv2.waitKey(0)\n",
    "cv2.destroyAllWindows()"
   ]
  },
  {
   "cell_type": "code",
   "execution_count": 13,
   "id": "f84a8954",
   "metadata": {},
   "outputs": [],
   "source": [
    "# ellipse\n",
    "# ellipse(img, 中心点, 长宽的一半, 角度(逆时针), 从哪个角度开始, 从哪个角度结束,...)\n",
    "cv2.ellipse(img, (320, 240), (100, 50), 45, 0, 360, [0, 0, 255], 5, 16)\n",
    "\n",
    "cv2.imshow('draw2', img)\n",
    "cv2.waitKey(0)\n",
    "cv2.destroyAllWindows()"
   ]
  },
  {
   "cell_type": "code",
   "execution_count": 17,
   "id": "d7ebfbbf",
   "metadata": {},
   "outputs": [],
   "source": [
    "# poly\n",
    "pts = np.array([(250, 100), (150, 300), (50, 280), (100, 200)], np.int32)\n",
    "cv2.polylines(img, [pts], True, (0, 0, 255), 5)\n",
    "\n",
    "cv2.imshow('draw2', img)\n",
    "cv2.waitKey(0)\n",
    "cv2.destroyAllWindows()"
   ]
  },
  {
   "cell_type": "code",
   "execution_count": 16,
   "id": "3a9cbc66",
   "metadata": {},
   "outputs": [],
   "source": [
    "# fillpoly\n",
    "pts = np.array([(250, 100), (150, 300), (50, 280), (100, 200)], np.int32)\n",
    "cv2.fillPoly(img, [pts], (0, 0, 255))\n",
    "\n",
    "cv2.imshow('draw2', img)\n",
    "cv2.waitKey(0)\n",
    "cv2.destroyAllWindows()"
   ]
  },
  {
   "cell_type": "code",
   "execution_count": 19,
   "id": "9e9396e3",
   "metadata": {},
   "outputs": [],
   "source": [
    "# 绘制文本\n",
    "cv2.putText(img, 'Hello  Opencv', (50, 400), cv2.FONT_HERSHEY_COMPLEX, 2, [0, 0, 255])\n",
    "\n",
    "cv2.imshow('draw2', img)\n",
    "cv2.waitKey(0)\n",
    "cv2.destroyAllWindows()\n",
    "\n",
    "# 使用OpenCV绘制中文\n",
    "# 使用Pillow包"
   ]
  },
  {
   "cell_type": "code",
   "execution_count": null,
   "id": "de93cf7a",
   "metadata": {},
   "outputs": [],
   "source": []
  }
 ],
 "metadata": {
  "kernelspec": {
   "display_name": "Python 3 (ipykernel)",
   "language": "python",
   "name": "python3"
  },
  "language_info": {
   "codemirror_mode": {
    "name": "ipython",
    "version": 3
   },
   "file_extension": ".py",
   "mimetype": "text/x-python",
   "name": "python",
   "nbconvert_exporter": "python",
   "pygments_lexer": "ipython3",
   "version": "3.9.9"
  }
 },
 "nbformat": 4,
 "nbformat_minor": 5
}
