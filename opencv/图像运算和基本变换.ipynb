{
 "cells": [
  {
   "cell_type": "code",
   "execution_count": 1,
   "id": "8959c57a",
   "metadata": {},
   "outputs": [],
   "source": [
    "import cv2\n",
    "import numpy as np"
   ]
  },
  {
   "cell_type": "markdown",
   "id": "cfdacc7a",
   "metadata": {},
   "source": [
    "## 图像的加、减、乘、除运算"
   ]
  },
  {
   "cell_type": "code",
   "execution_count": 4,
   "id": "134a5364",
   "metadata": {},
   "outputs": [
    {
     "name": "stdout",
     "output_type": "stream",
     "text": [
      "(380, 380, 3)\n",
      "(1000, 1000, 3)\n",
      "(380, 380, 3)\n"
     ]
    }
   ],
   "source": [
    "# 加法运算\n",
    "\n",
    "# 读取图片\n",
    "iu = cv2.imread('./fig/iu.png')\n",
    "\n",
    "jennie = cv2.imread('./fig/Jennie.png')\n",
    "\n",
    "print(iu.shape)\n",
    "print(jennie.shape)\n",
    "\n",
    "# 加法要求两个图片大小一致\n",
    "# 使用ndarray的切片，切出大小一样的图片\n",
    "new_jennie = jennie[0:380, 0:380]\n",
    "print(new_jennie.shape)\n",
    "\n",
    "#加法，加法的效果是加起来如果超过255，统一变成255\n",
    "new_img = cv2.add(iu, new_jennie)\n",
    "\n",
    "cv2.imshow('new_img', new_img)\n",
    "cv2.waitKey(0)\n",
    "cv2.destroyAllWindows()"
   ]
  },
  {
   "cell_type": "code",
   "execution_count": 5,
   "id": "93565a53",
   "metadata": {},
   "outputs": [
    {
     "name": "stdout",
     "output_type": "stream",
     "text": [
      "[[[15  5  5]\n",
      "  [15  5  5]]\n",
      "\n",
      " [[15  5  5]\n",
      "  [15  5  5]]]\n"
     ]
    }
   ],
   "source": [
    "# 图片还可以和单个数字进行运算\n",
    "# 超出255的数字，会被截断，相当于 % 255\n",
    "\n",
    "iu += 100\n",
    "print(iu[:2, :2])\n",
    "\n",
    "cv2.imshow('iu', iu)\n",
    "cv2.waitKey(0)\n",
    "cv2.destroyAllWindows()"
   ]
  },
  {
   "cell_type": "code",
   "execution_count": 7,
   "id": "02f61611",
   "metadata": {},
   "outputs": [],
   "source": [
    "# 减法运算\n",
    "# 小于0，为0\n",
    "iu -= 100\n",
    "new_img1 = cv2.subtract(new_jennie, iu)\n",
    "\n",
    "cv2.imshow('img1', new_img1)\n",
    "cv2.waitKey(0)\n",
    "cv2.destroyAllWindows()"
   ]
  },
  {
   "cell_type": "code",
   "execution_count": 9,
   "id": "a097c3f2",
   "metadata": {},
   "outputs": [],
   "source": [
    "# 乘法运算\n",
    "iu -= 100\n",
    "jennie -= 100\n",
    "new_img2 = cv2.multiply(new_jennie, iu)\n",
    "\n",
    "cv2.imshow('img2', new_img2)\n",
    "cv2.waitKey(0)\n",
    "cv2.destroyAllWindows()"
   ]
  },
  {
   "cell_type": "code",
   "execution_count": 12,
   "id": "e2318b65",
   "metadata": {},
   "outputs": [],
   "source": [
    "# 除法运算\n",
    "iu += 100\n",
    "jennie += 200\n",
    "new_img3 = cv2.divide(new_jennie, iu)\n",
    "\n",
    "cv2.imshow('img3', new_img3)\n",
    "cv2.waitKey(0)\n",
    "cv2.destroyAllWindows()"
   ]
  },
  {
   "cell_type": "markdown",
   "id": "030d5f83",
   "metadata": {},
   "source": [
    "## 图像的融合"
   ]
  },
  {
   "cell_type": "code",
   "execution_count": 16,
   "id": "843e1e66",
   "metadata": {},
   "outputs": [],
   "source": [
    "# 不是简单的加法，相当于对图像做了线性运算。\n",
    "# new_img = w1 * img1 + w2 * img2 + bias\n",
    "\n",
    "# 读取图片\n",
    "iu = cv2.imread('./fig/iu.png')\n",
    "jennie = cv2.imread('./fig/Jennie.png')\n",
    "\n",
    "new_jennie = jennie[0:380, 0:380]\n",
    "\n",
    "new_img4 = cv2.addWeighted(new_jennie, 0.3, iu, 0.7, +50)\n",
    "\n",
    "cv2.imshow('img4', new_img4)\n",
    "cv2.waitKey(0)\n",
    "cv2.destroyAllWindows()"
   ]
  },
  {
   "cell_type": "markdown",
   "id": "dea56a00",
   "metadata": {},
   "source": [
    "## OpenCV的逻辑运算"
   ]
  },
  {
   "cell_type": "code",
   "execution_count": 28,
   "id": "73266e1a",
   "metadata": {},
   "outputs": [
    {
     "name": "stdout",
     "output_type": "stream",
     "text": [
      "[[[171 161 161]\n",
      "  [171 161 161]]\n",
      "\n",
      " [[171 161 161]\n",
      "  [171 161 161]]]\n"
     ]
    }
   ],
   "source": [
    "# OpenCV中的逻辑运算就是对应位置元素进行与或非，异或运算\n",
    "\n",
    "# 读取图片\n",
    "iu = cv2.imread('./fig/iu.png')\n",
    "jennie = cv2.imread('./fig/Jennie.png')\n",
    "\n",
    "# 非\n",
    "# iu_not = cv2.bitwise_not(iu)\n",
    "\n",
    "# 与\n",
    "# iu_and = cv2.bitwise_and(iu, new_jennie)\n",
    "\n",
    "# 或\n",
    "# iu_or = cv2.bitwise_or(iu, new_jennie)\n",
    "\n",
    "# 异或\n",
    "iu_xor = cv2.bitwise_xor(iu, new_jennie)\n",
    "\n",
    "print(iu[:2, :2])\n",
    "# print(iu_not[:2, :2])\n",
    "# print(iu_and[:2, :2])\n",
    "# print(iu_or[:2, :2])\n",
    "# print(iu_xor[:2, :2])\n",
    "\n",
    "# cv2.imshow('not', np.hstack((iu, iu_not)))\n",
    "# cv2.imshow('and', np.hstack((iu, iu_and)))\n",
    "# cv2.imshow('or', np.hstack((iu, new_jennie, iu_or)))\n",
    "cv2.imshow('xor', np.hstack((iu, new_jennie, iu_xor)))\n",
    "\n",
    "cv2.waitKey(0)\n",
    "cv2.destroyAllWindows()"
   ]
  },
  {
   "cell_type": "markdown",
   "id": "d4de7c0c",
   "metadata": {},
   "source": [
    "## 图像的基本变换"
   ]
  },
  {
   "cell_type": "markdown",
   "id": "0d8e7337",
   "metadata": {},
   "source": [
    "### 缩放"
   ]
  },
  {
   "cell_type": "code",
   "execution_count": 1,
   "id": "820d5ade",
   "metadata": {},
   "outputs": [],
   "source": [
    "import cv2\n",
    "import numpy as np"
   ]
  },
  {
   "cell_type": "code",
   "execution_count": 1,
   "id": "48a73d45",
   "metadata": {},
   "outputs": [],
   "source": [
    "from cvUtils import *"
   ]
  },
  {
   "cell_type": "code",
   "execution_count": 2,
   "id": "3b6f84f0",
   "metadata": {},
   "outputs": [
    {
     "name": "stdout",
     "output_type": "stream",
     "text": [
      "(1000, 1000, 3)\n",
      "(380, 380, 3)\n",
      "(500, 500, 3)\n"
     ]
    }
   ],
   "source": [
    "jennie = cv2.imread('./fig/Jennie.png')\n",
    "iu = cv2.imread('./fig/iu.png')\n",
    "\n",
    "print(jennie.shape)\n",
    "print(iu.shape)\n",
    "\n",
    "# resize\n",
    "# new_jennie = cv2.resize(jennie, (380, 380)) # 插值缩放\n",
    "new_jennie = cv2.resize(jennie, dsize=None, fx=0.5, fy=0.5)\n",
    "print(new_jennie.shape)\n",
    "\n",
    "# cv2.imshow('new_jennie', np.hstack((iu, new_jennie)))\n",
    "\n",
    "# cv2.waitKey(0)\n",
    "# cv2.destroyAllWindows()\n",
    "# cv_show('new_jennie', np.hstack((iu, new_jennie)))"
   ]
  },
  {
   "cell_type": "markdown",
   "id": "07cf08fa",
   "metadata": {},
   "source": [
    "### 翻转"
   ]
  },
  {
   "cell_type": "code",
   "execution_count": null,
   "id": "9b29cbbc",
   "metadata": {},
   "outputs": [],
   "source": [
    "# flip\n",
    "jennie = cv2.imread('./fig/Jennie.png')\n",
    "\n",
    "new_jennie = cv2.flip(jennie, 1)\n",
    "\n",
    "cv2.imshow('new_jennie', np.hstack((jennie, new_jennie)))\n",
    "\n",
    "cv2.waitKey(0)\n",
    "cv2.destroyAllWindows()"
   ]
  },
  {
   "cell_type": "markdown",
   "id": "712b5cf3",
   "metadata": {},
   "source": [
    "### 旋转"
   ]
  },
  {
   "cell_type": "code",
   "execution_count": null,
   "id": "5bb8a3e2",
   "metadata": {},
   "outputs": [],
   "source": [
    "# rotate\n",
    "jennie = cv2.imread('./fig/Jennie.png')\n",
    "\n",
    "new_jennie = cv2.rotate(jennie, rotateCode=cv2.ROTATE_90_COUNTERCLOCKWISE)\n",
    "\n",
    "cv2.imshow('new_jennie', new_jennie)\n",
    "cv2.waitKey(0)\n",
    "cv2.destroyAllWindows()"
   ]
  },
  {
   "cell_type": "markdown",
   "id": "705ac825",
   "metadata": {},
   "source": [
    "### 仿射变换之平移"
   ]
  },
  {
   "cell_type": "code",
   "execution_count": null,
   "id": "c3f071f7",
   "metadata": {},
   "outputs": [],
   "source": [
    "jennie = cv2.imread('./fig/Jennie.png')\n",
    "h, w, ch = jennie.shape\n",
    "\n",
    "# 变换矩阵，最少是float32位\n",
    "M = np.float32([[1, 0, 200], [0, 1, 0]])\n",
    "\n",
    "# 平移操作\n",
    "new_jennie = cv2.warpAffine(jennie, M, dsize=(w, h))\n",
    "\n",
    "cv2.imshow('new_jennie', new_jennie)\n",
    "cv2.waitKey(0)\n",
    "cv2.destroyAllWindows()"
   ]
  },
  {
   "cell_type": "markdown",
   "id": "c19c3043",
   "metadata": {},
   "source": [
    "### 仿射变换之获取变换矩阵"
   ]
  },
  {
   "cell_type": "code",
   "execution_count": null,
   "id": "f557fcd1",
   "metadata": {},
   "outputs": [],
   "source": [
    "jennie = cv2.imread('./fig/Jennie.png')\n",
    "\n",
    "h, w, ch = jennie.shape\n",
    "    \n",
    "M = cv2.getRotationMatrix2D((100, 100), 15, 1)\n",
    "\n",
    "new_jennie = cv2.warpAffine(jennie, M, dsize=(w, h))\n",
    "\n",
    "cv2.imshow('new_jennie', new_jennie)\n",
    "cv2.waitKey(0)\n",
    "cv2.destroyAllWindows()"
   ]
  },
  {
   "cell_type": "code",
   "execution_count": null,
   "id": "e3fd26f4",
   "metadata": {},
   "outputs": [],
   "source": [
    "# 通过三个点来确定变换矩阵\n",
    "jennie = cv2.imread('./fig/Jennie.png')\n",
    "\n",
    "h, w, ch = jennie.shape\n",
    "\n",
    "src = np.float32([[200, 100], [300, 100], [200, 300]])\n",
    "dst = np.float32([[100, 150], [360, 200], [280, 120]])\n",
    "\n",
    "M = cv2.getAffineTransform(src, dst)\n",
    "new_jennie = cv2.warpAffine(jennie, M, dsize=(w, h))\n",
    "\n",
    "cv2.imshow('new_jennie', new_jennie)\n",
    "cv2.waitKey(0)\n",
    "cv2.destroyAllWindows()"
   ]
  },
  {
   "cell_type": "markdown",
   "id": "53d3580d",
   "metadata": {},
   "source": [
    "### 仿射变换之透视变换"
   ]
  },
  {
   "cell_type": "code",
   "execution_count": null,
   "id": "f55b3394",
   "metadata": {},
   "outputs": [],
   "source": [
    "jennie = cv2.imread('./fig/Jennie.png')\n",
    "\n",
    "# 获取变换矩阵\n",
    "# src = np.float32([[100, 900], [800, ]])\n",
    "# dst = ....\n",
    "\n",
    "cv2.getPerspectiveTransform(src, dst)"
   ]
  }
 ],
 "metadata": {
  "kernelspec": {
   "display_name": "Python 3 (ipykernel)",
   "language": "python",
   "name": "python3"
  },
  "language_info": {
   "codemirror_mode": {
    "name": "ipython",
    "version": 3
   },
   "file_extension": ".py",
   "mimetype": "text/x-python",
   "name": "python",
   "nbconvert_exporter": "python",
   "pygments_lexer": "ipython3",
   "version": "3.9.7"
  }
 },
 "nbformat": 4,
 "nbformat_minor": 5
}
