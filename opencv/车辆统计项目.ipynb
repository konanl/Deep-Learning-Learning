{
 "cells": [
  {
   "cell_type": "code",
   "execution_count": 1,
   "id": "44a526bb",
   "metadata": {},
   "outputs": [],
   "source": [
    "import cv2\n",
    "import numpy as np\n",
    "import matplotlib.pyplot as plt"
   ]
  },
  {
   "cell_type": "markdown",
   "id": "96247307",
   "metadata": {},
   "source": [
    "# 加载视频"
   ]
  },
  {
   "cell_type": "code",
   "execution_count": 2,
   "id": "28e1ae06",
   "metadata": {},
   "outputs": [],
   "source": [
    "cap = cv2.VideoCapture('./video/car.mp4')"
   ]
  },
  {
   "cell_type": "code",
   "execution_count": 4,
   "id": "9cc5fc39",
   "metadata": {},
   "outputs": [],
   "source": [
    "# # 循环读取视频帧\n",
    "# while True:\n",
    "#     ret, frame = cap.read()\n",
    "#     if ret == True:\n",
    "#         cv2.imshow('video', frame)\n",
    "        \n",
    "#     key = cv2.waitKey(1)\n",
    "#     # esc\n",
    "#     if key == 27:\n",
    "#         break\n",
    "        \n",
    "# # 释放资源\n",
    "# cap.release()\n",
    "# cv2.destroyAllWindows()"
   ]
  },
  {
   "cell_type": "markdown",
   "id": "a9c323a9",
   "metadata": {},
   "source": [
    "# 去除背景示例"
   ]
  },
  {
   "cell_type": "code",
   "execution_count": null,
   "id": "5d7f5a95",
   "metadata": {},
   "outputs": [],
   "source": [
    "# cap = cv2.VideoCapture(0)\n",
    "# bgs = cv2.bgsegm.createBackgroundSubtractorMOG()\n",
    "\n",
    "# while True:\n",
    "#     ret, frame = cap.read()\n",
    "    \n",
    "#     if ret == True:\n",
    "#         fgmask = bgs.apply(frame)\n",
    "#         cv2.imshow('video', fgmask)\n",
    "#     key = cv2.waitKey(1)\n",
    "#     if key == 27:\n",
    "#         break\n",
    "          \n",
    "# cap.release()\n",
    "# cv2.destoryAllWindows()"
   ]
  },
  {
   "cell_type": "markdown",
   "id": "b96ef74d",
   "metadata": {},
   "source": [
    "# 形态学识别车辆"
   ]
  },
  {
   "cell_type": "code",
   "execution_count": null,
   "id": "d074d618",
   "metadata": {},
   "outputs": [],
   "source": [
    "# cap = cv2.VideoCapture('./video/car.mp4')\n",
    "\n",
    "# bgs = cv2.bgsegm.createBackgroundSubtractorMOG()\n",
    "\n",
    "# kernel = cv2.getStructuringElement(cv2.MORPH_RECT, (5, 5))\n",
    "\n",
    "# while True:\n",
    "#     ret, frame = cap.read()\n",
    "#     if ret == True:\n",
    "#         # 把原始帧进行灰度化，然后去噪\n",
    "#         gray = cv2.cvtColor(frame, cv2.COLOR_BGR2GRAY)\n",
    "#         # 去噪\n",
    "#         blur = cv2.GaussianBlur(gray, (3, 3), 5)\n",
    "#         fgmask = bgs.apply(blur)\n",
    "        \n",
    "#         # 腐蚀\n",
    "#         erode = cv2.erode(fgmask, kernel)\n",
    "#         # 膨胀\n",
    "#         dilate = cv2.dilate(erode, kernel, iterations=2)\n",
    "        \n",
    "#         # 消除内部的小方块 - 闭运算\n",
    "#         close = cv2.morphologyEx(dilate, cv2.MORPH_CLOSE, kernel)\n",
    "        \n",
    "#         cv2.imshow('video', close)\n",
    "        \n",
    "#     key = cv2.waitKey(10)\n",
    "#     # esc\n",
    "#     if key == 27:\n",
    "#         break\n",
    "        \n",
    "# # 释放资源\n",
    "# cap.release()\n",
    "# cv2.destroyAllWindows()"
   ]
  },
  {
   "cell_type": "markdown",
   "id": "a9a50707",
   "metadata": {},
   "source": [
    "# 查找轮廓"
   ]
  },
  {
   "cell_type": "code",
   "execution_count": null,
   "id": "93a5a9de",
   "metadata": {},
   "outputs": [],
   "source": [
    "cap = cv2.VideoCapture('./video/car.mp4')\n",
    "\n",
    "bgs = cv2.bgsegm.createBackgroundSubtractorMOG()\n",
    "\n",
    "kernel = cv2.getStructuringElement(cv2.MORPH_RECT, (5, 5))\n",
    "\n",
    "min_w, min_h = 100, 90\n",
    "line_high = 600\n",
    "\n",
    "# 偏移量\n",
    "offset = 7\n",
    "\n",
    "cars = []\n",
    "cars_count = 0\n",
    "\n",
    "# 计算中心点\n",
    "def center(x, y, w, h):\n",
    "    return int(w / 2 + x), int(h / 2 + y)\n",
    "\n",
    "while True:\n",
    "    ret, frame = cap.read()\n",
    "    if ret == True:\n",
    "        # 把原始帧进行灰度化，然后去噪\n",
    "        gray = cv2.cvtColor(frame, cv2.COLOR_BGR2GRAY)\n",
    "        # 去噪\n",
    "        blur = cv2.GaussianBlur(gray, (3, 3), 5)\n",
    "        fgmask = bgs.apply(blur)\n",
    "        \n",
    "        # 腐蚀\n",
    "        erode = cv2.erode(fgmask, kernel)\n",
    "        # 膨胀\n",
    "        dilate = cv2.dilate(erode, kernel, iterations=2)\n",
    "        \n",
    "        # 消除内部的小方块 - 闭运算\n",
    "        close = cv2.morphologyEx(dilate, cv2.MORPH_CLOSE, kernel)\n",
    "        \n",
    "        # 查找轮廓\n",
    "        contours, _ = cv2.findContours(close, cv2.RETR_TREE, cv2.CHAIN_APPROX_SIMPLE)\n",
    "        \n",
    "        # 画出检测线\n",
    "        cv2.line(frame, (10, line_high), (1200, line_high), (0, 255, 0), 3)\n",
    "        \n",
    "        # 画出所有检测出来的轮廓\n",
    "        for contour in contours:\n",
    "            # 最大外接矩形\n",
    "            (x, y, w, h) = cv2.boundingRect(contour)\n",
    "            \n",
    "            # 通过外接矩形的宽高，过滤多余过小矩形\n",
    "            is_vaild = (w >= min_w) & (h >= min_h)\n",
    "            if not is_vaild:\n",
    "                continue\n",
    "                \n",
    "            # 要求坐标点都是整数\n",
    "            cv2.rectangle(frame, (int(x), int(y)), (int(x+w), int(y+h)), (0, 0, 255), 2)\n",
    "            \n",
    "            # 把车抽象成一点，即外接矩形的中心点\n",
    "            cpoint = center(x, y, w, h)\n",
    "            cars.append(cpoint)\n",
    "            cv2.circle(frame, (cpoint), 5, (0, 0, 255), -1)\n",
    "            \n",
    "            # 判断汽车是否过线\n",
    "            for (x, y) in cars:\n",
    "                if y > (line_high - offset) and y < (line_high + offset):\n",
    "                    # 有效\n",
    "                    # count\n",
    "                    cars_count += 1\n",
    "                    cars.remove((x, y))\n",
    "        \n",
    "        cv2.putText(frame, \"Vehicle Cpount:\" + str(cars_count), (500, 60), \\\n",
    "                    cv2.FONT_HERSHEY_SCRIPT_SIMPLEX, 2, (0, 0, 255), 5)\n",
    "        cv2.imshow('video', frame)\n",
    "        \n",
    "    key = cv2.waitKey(10)\n",
    "    # esc\n",
    "    if key == 27:\n",
    "        break\n",
    "        \n",
    "# 释放资源\n",
    "cap.release()\n",
    "cv2.destroyAllWindows()"
   ]
  },
  {
   "cell_type": "code",
   "execution_count": null,
   "id": "69f3403c",
   "metadata": {},
   "outputs": [],
   "source": []
  }
 ],
 "metadata": {
  "kernelspec": {
   "display_name": "Python 3 (ipykernel)",
   "language": "python",
   "name": "python3"
  },
  "language_info": {
   "codemirror_mode": {
    "name": "ipython",
    "version": 3
   },
   "file_extension": ".py",
   "mimetype": "text/x-python",
   "name": "python",
   "nbconvert_exporter": "python",
   "pygments_lexer": "ipython3",
   "version": "3.9.16"
  }
 },
 "nbformat": 4,
 "nbformat_minor": 5
}
