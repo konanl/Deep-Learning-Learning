{
 "cells": [
  {
   "cell_type": "markdown",
   "id": "7bced1d9",
   "metadata": {},
   "source": [
    "## 作业1\n",
    "### 写一个程序, 实现按l键之后拖动鼠标绘制直线, 按r键之后拖动鼠标绘制矩形, 按c键拖动鼠标绘制圆形"
   ]
  },
  {
   "cell_type": "markdown",
   "id": "24edd681",
   "metadata": {},
   "source": [
    "#### 作业思路：\n",
    "##### 按下按键比如l，进入绘制直线模式。需要记起始位置，即按下鼠标左键的那一瞬间的坐标位置，左键起来的鼠标坐标作为终点，然后绘制"
   ]
  },
  {
   "cell_type": "markdown",
   "id": "e4847b47",
   "metadata": {},
   "source": [
    "- 按下l，拖动鼠标，绘制直线\n",
    "- 按下r，拖动鼠标，绘制矩形\n",
    "- 按下c，拖动鼠标，绘制圆，拖动的长度作为半径"
   ]
  },
  {
   "cell_type": "code",
   "execution_count": 23,
   "id": "dea9c9d1",
   "metadata": {},
   "outputs": [],
   "source": [
    "import cv2\n",
    "import numpy as np"
   ]
  },
  {
   "cell_type": "code",
   "execution_count": 24,
   "id": "7ea6773f",
   "metadata": {},
   "outputs": [],
   "source": [
    "# 全局标志，判断画什么类型的图\n",
    "curshape = 0\n",
    "startpos = (0, 0)"
   ]
  },
  {
   "cell_type": "code",
   "execution_count": 25,
   "id": "d686d319",
   "metadata": {},
   "outputs": [],
   "source": [
    "# 创建背景图\n",
    "img = np.zeros((480, 640, 3), np.uint8)"
   ]
  },
  {
   "cell_type": "code",
   "execution_count": 26,
   "id": "89daa73c",
   "metadata": {},
   "outputs": [],
   "source": [
    "# 要监听鼠标的行为，所以必须通过鼠标回调函数实现\n",
    "def mouse_callback(event, x, y, flags, userdata):\n",
    "    # 引入全局变量\n",
    "    global curshape, startpos\n",
    "    # 引入非本层的全局变量用nonlocal\n",
    "    if event == cv2.EVENT_LBUTTONDOWN:\n",
    "        # 记录起始位置\n",
    "        startpos = (x, y)\n",
    "    elif event == cv2.EVENT_LBUTTONUP:\n",
    "        # 判断要画什么类型的图\n",
    "        if curshape == 0: # 画直线\n",
    "            cv2.line(img, startpos, (x, y), (0, 0, 255), 3)\n",
    "        elif curshape == 1: # 画矩形\n",
    "            cv2.rectangle(img, startpos, (x, y), (0, 0, 255), 3)\n",
    "        elif curshape == 2: # 画圆\n",
    "            # 注意计算半径\n",
    "            a = x - startspos[0]\n",
    "            b = y - startspos[1]\n",
    "            r = int((a**2 + b**2)**0.5)\n",
    "            # 画圆的时候，半径必须为整数\n",
    "            cv2.circle(img, startpos, r, (0, 0, 255), 3)\n",
    "        else:\n",
    "            print('Wrong Operate!!!')"
   ]
  },
  {
   "cell_type": "code",
   "execution_count": 27,
   "id": "2c75fc5b",
   "metadata": {},
   "outputs": [],
   "source": [
    "# 创建窗口\n",
    "cv2.namedWindow('drawshape', cv2.WINDOW_NORMAL)\n",
    "\n",
    "\n",
    "# 设置鼠标回调函数\n",
    "cv2.setMouseCallback('drawshape', mouse_callback)\n",
    "\n",
    "\n",
    "while True:\n",
    "    cv2.imshow('drawshape', img)\n",
    "    # 检测按键\n",
    "    key = cv2.waitKey(1)\n",
    "    if key == ord('q'):\n",
    "        break\n",
    "    elif key == ord('l'):\n",
    "        curshape = 0\n",
    "    elif key == ord('r'):\n",
    "        curshape = 1\n",
    "    elif key == ord('c'):\n",
    "        curshape = 2\n",
    "        \n",
    "cv2.destroyAllWindows()"
   ]
  },
  {
   "cell_type": "code",
   "execution_count": null,
   "id": "62781779",
   "metadata": {},
   "outputs": [],
   "source": []
  }
 ],
 "metadata": {
  "kernelspec": {
   "display_name": "Python 3 (ipykernel)",
   "language": "python",
   "name": "python3"
  },
  "language_info": {
   "codemirror_mode": {
    "name": "ipython",
    "version": 3
   },
   "file_extension": ".py",
   "mimetype": "text/x-python",
   "name": "python",
   "nbconvert_exporter": "python",
   "pygments_lexer": "ipython3",
   "version": "3.9.9"
  }
 },
 "nbformat": 4,
 "nbformat_minor": 5
}
