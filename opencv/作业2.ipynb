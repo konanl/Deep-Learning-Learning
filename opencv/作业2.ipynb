{
 "cells": [
  {
   "cell_type": "code",
   "execution_count": 1,
   "id": "ce57289d",
   "metadata": {},
   "outputs": [],
   "source": [
    "import cv2\n",
    "import numpy as np"
   ]
  },
  {
   "cell_type": "code",
   "execution_count": 2,
   "id": "68d5cdd3",
   "metadata": {},
   "outputs": [],
   "source": [
    "# 1. 引入图片\n",
    "# 2. 设计一个Logo图片\n",
    "# 3. 规划logo的位置，在添加的位置变成黑色\n",
    "# 4. 利用add方法，把logo和图片叠加在一起"
   ]
  },
  {
   "cell_type": "code",
   "execution_count": 3,
   "id": "516d7fdd",
   "metadata": {},
   "outputs": [],
   "source": [
    "# 导入图片\n",
    "jennie = cv2.imread('./fig/Jennie.png')\n",
    "\n",
    "# 创建logo\n",
    "logo = np.zeros((200, 200, 3), np.uint8)\n",
    "\n",
    "# 绘制logo\n",
    "logo[20:120, 20:120] = [0, 0, 255]\n",
    "logo[80:180, 80:180] = [0, 255, 0]\n",
    "\n",
    "# 掩码\n",
    "mask = np.zeros((200, 200), np.uint8)\n",
    "mask[20:120, 20:120] = 255\n",
    "mask[80:180, 80:180] = 255\n",
    "\n",
    "mask = cv2.bitwise_not(mask)\n",
    "\n",
    "# 选择，添加logo位置\n",
    "roi = jennie[0:200, 0:200] # 浅拷贝\n",
    "\n",
    "# roi与mask与操作\n",
    "tmp = cv2.bitwise_and(roi, roi, mask=mask)\n",
    "\n",
    "dst = cv2.add(tmp, logo)\n",
    "\n",
    "# 还原\n",
    "jennie[0:200, 0:200] = dst\n",
    "\n",
    "cv2.imshow('jennie', jennie)\n",
    "\n",
    "cv2.waitKey(0)\n",
    "cv2.destroyAllWindows()"
   ]
  },
  {
   "cell_type": "code",
   "execution_count": null,
   "id": "ad45720d",
   "metadata": {},
   "outputs": [],
   "source": []
  }
 ],
 "metadata": {
  "kernelspec": {
   "display_name": "Python 3 (ipykernel)",
   "language": "python",
   "name": "python3"
  },
  "language_info": {
   "codemirror_mode": {
    "name": "ipython",
    "version": 3
   },
   "file_extension": ".py",
   "mimetype": "text/x-python",
   "name": "python",
   "nbconvert_exporter": "python",
   "pygments_lexer": "ipython3",
   "version": "3.9.7"
  }
 },
 "nbformat": 4,
 "nbformat_minor": 5
}
