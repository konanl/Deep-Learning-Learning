{
 "cells": [
  {
   "cell_type": "code",
   "execution_count": 1,
   "id": "7f6bfb79",
   "metadata": {},
   "outputs": [],
   "source": [
    "import torch\n",
    "import torch.nn as nn\n",
    "import matplotlib.pyplot as plt\n",
    "import torchvision"
   ]
  },
  {
   "cell_type": "markdown",
   "id": "0996fda9",
   "metadata": {},
   "source": [
    "# 一、前期准备"
   ]
  },
  {
   "cell_type": "markdown",
   "id": "63be66ea",
   "metadata": {},
   "source": [
    "## 1.设置GPU"
   ]
  },
  {
   "cell_type": "code",
   "execution_count": 2,
   "id": "311eb711",
   "metadata": {},
   "outputs": [],
   "source": [
    "device = torch.device('cuda' if torch.cuda.is_available() else 'cpu')"
   ]
  },
  {
   "cell_type": "code",
   "execution_count": 3,
   "id": "90bb4130",
   "metadata": {},
   "outputs": [
    {
     "data": {
      "text/plain": [
       "device(type='cuda')"
      ]
     },
     "execution_count": 3,
     "metadata": {},
     "output_type": "execute_result"
    }
   ],
   "source": [
    "device"
   ]
  },
  {
   "cell_type": "markdown",
   "id": "04618025",
   "metadata": {},
   "source": [
    "## 2.导入数据"
   ]
  },
  {
   "cell_type": "code",
   "execution_count": 4,
   "id": "1754402c",
   "metadata": {},
   "outputs": [],
   "source": [
    "train_ds = torchvision.datasets.MNIST('data', \n",
    "                                      train=True, \n",
    "                                      transform=torchvision.transforms.ToTensor(), \n",
    "                                      download=False)\n",
    "\n",
    "test_ds = torchvision.datasets.MNIST('data', \n",
    "                                     train=False, \n",
    "                                     transform=torchvision.transforms.ToTensor(), \n",
    "                                     download=False)"
   ]
  },
  {
   "cell_type": "code",
   "execution_count": 5,
   "id": "cd9b1ca4",
   "metadata": {},
   "outputs": [],
   "source": [
    "batch_size = 32\n",
    "\n",
    "train_dl = torch.utils.data.DataLoader(train_ds, batch_size=batch_size, shuffle=True)\n",
    "test_dl = torch.utils.data.DataLoader(test_ds, batch_size=batch_size)"
   ]
  },
  {
   "cell_type": "code",
   "execution_count": 6,
   "id": "cc561b8b",
   "metadata": {},
   "outputs": [
    {
     "data": {
      "text/plain": [
       "torch.Size([32, 1, 28, 28])"
      ]
     },
     "execution_count": 6,
     "metadata": {},
     "output_type": "execute_result"
    }
   ],
   "source": [
    "imgs, labels = next(iter(train_dl))\n",
    "imgs.shape"
   ]
  },
  {
   "cell_type": "markdown",
   "id": "bba4a0b6",
   "metadata": {},
   "source": [
    "## 3.数据可视化"
   ]
  },
  {
   "cell_type": "code",
   "execution_count": 7,
   "id": "27e27dfc",
   "metadata": {},
   "outputs": [
    {
     "data": {
      "image/png": "[encoded data removed]",
      "text/plain": [
       "<Figure size 1440x360 with 20 Axes>"
      ]
     },
     "metadata": {
      "needs_background": "light"
     },
     "output_type": "display_data"
    }
   ],
   "source": [
    "import numpy as np\n",
    "\n",
    "plt.figure(figsize=(20, 5))\n",
    "for i, img in enumerate(imgs[:20]):\n",
    "    # 维度缩减\n",
    "    npimg = np.squeeze(img.numpy())\n",
    "    \n",
    "    plt.subplot(2, 10, i+1)\n",
    "    plt.imshow(npimg, cmap=plt.cm.binary)\n",
    "    plt.axis('off')"
   ]
  },
  {
   "cell_type": "markdown",
   "id": "2d8c831e",
   "metadata": {},
   "source": [
    "# 二、构建简单的CNN网络"
   ]
  },
  {
   "cell_type": "markdown",
   "id": "2e717372",
   "metadata": {},
   "source": [
    "![CNN](./fig/cnn.jpg)"
   ]
  },
  {
   "cell_type": "markdown",
   "id": "3e24b205",
   "metadata": {},
   "source": [
    "![LeNet-5](https://pic4.zhimg.com/80/v2-d8d121a8013115a41ac5396cbf31943b_1440w.webp)"
   ]
  },
  {
   "cell_type": "code",
   "execution_count": 18,
   "id": "2a9d9990",
   "metadata": {},
   "outputs": [],
   "source": [
    "import torch.nn.functional as F\n",
    "\n",
    "num_classes = 10 # 图片类别数\n",
    "\n",
    "class LeNet_5(nn.Module):\n",
    "    \"\"\"LetNet-5\"\"\"\n",
    "    def __init__(self):\n",
    "        super().__init__()\n",
    "        \n",
    "        # 特征提取网络\n",
    "        self.feature_net = nn.Sequential(*[nn.Conv2d(1, 32, kernel_size=3), \n",
    "                            nn.ReLU(),\n",
    "                            nn.MaxPool2d(2),\n",
    "                            nn.Conv2d(32, 64, kernel_size=3),\n",
    "                            nn.ReLU(),\n",
    "                            nn.MaxPool2d(2)])\n",
    "        \n",
    "        # 分类网络\n",
    "        self.classes_net = nn.Sequential(nn.Linear(1600, 64), \n",
    "                                         nn.ReLU(), \n",
    "                                         nn.Linear(64, num_classes))\n",
    "        \n",
    "    def forward(self, x):\n",
    "        x = self.feature_net(x)\n",
    "        \n",
    "        x = torch.flatten(x, start_dim=1)\n",
    "        \n",
    "        x = self.classes_net(x)\n",
    "        \n",
    "        return x"
   ]
  },
  {
   "cell_type": "code",
   "execution_count": 19,
   "id": "3b15708b",
   "metadata": {},
   "outputs": [
    {
     "data": {
      "text/plain": [
       "=================================================================\n",
       "Layer (type:depth-idx)                   Param #\n",
       "=================================================================\n",
       "LeNet_5                                  --\n",
       "├─Sequential: 1-1                        --\n",
       "│    └─Conv2d: 2-1                       320\n",
       "│    └─ReLU: 2-2                         --\n",
       "│    └─MaxPool2d: 2-3                    --\n",
       "│    └─Conv2d: 2-4                       18,496\n",
       "│    └─ReLU: 2-5                         --\n",
       "│    └─MaxPool2d: 2-6                    --\n",
       "├─Sequential: 1-2                        --\n",
       "│    └─Linear: 2-7                       102,464\n",
       "│    └─ReLU: 2-8                         --\n",
       "│    └─Linear: 2-9                       650\n",
       "=================================================================\n",
       "Total params: 121,930\n",
       "Trainable params: 121,930\n",
       "Non-trainable params: 0\n",
       "================================================================="
      ]
     },
     "execution_count": 19,
     "metadata": {},
     "output_type": "execute_result"
    }
   ],
   "source": [
    "from torchinfo import summary\n",
    "\n",
    "model = LeNet_5().to(device)\n",
    "\n",
    "summary(model)"
   ]
  },
  {
   "cell_type": "markdown",
   "id": "048d47c5",
   "metadata": {},
   "source": [
    "# 三、训练模型"
   ]
  },
  {
   "cell_type": "markdown",
   "id": "ae07525c",
   "metadata": {},
   "source": [
    "## 1. 设置超参数"
   ]
  },
  {
   "cell_type": "code",
   "execution_count": 20,
   "id": "834566ba",
   "metadata": {},
   "outputs": [],
   "source": [
    "loss_fn = nn.CrossEntropyLoss()\n",
    "lr = 1e-3\n",
    "opt = torch.optim.SGD(model.parameters(), lr=lr)"
   ]
  },
  {
   "cell_type": "markdown",
   "id": "90b90be1",
   "metadata": {},
   "source": [
    "## 2.编写训练函数"
   ]
  },
  {
   "cell_type": "code",
   "execution_count": null,
   "id": "80dbe5ac",
   "metadata": {},
   "outputs": [],
   "source": []
  }
 ],
 "metadata": {
  "kernelspec": {
   "display_name": "Python 3 (ipykernel)",
   "language": "python",
   "name": "python3"
  },
  "language_info": {
   "codemirror_mode": {
    "name": "ipython",
    "version": 3
   },
   "file_extension": ".py",
   "mimetype": "text/x-python",
   "name": "python",
   "nbconvert_exporter": "python",
   "pygments_lexer": "ipython3",
   "version": "3.9.9"
  }
 },
 "nbformat": 4,
 "nbformat_minor": 5
}
