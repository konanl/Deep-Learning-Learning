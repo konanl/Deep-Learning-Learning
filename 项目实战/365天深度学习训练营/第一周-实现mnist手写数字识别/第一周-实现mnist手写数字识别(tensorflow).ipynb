{
 "cells": [
  {
   "cell_type": "markdown",
   "id": "f77ec0be",
   "metadata": {},
   "source": [
    "# 一、前期工作"
   ]
  },
  {
   "cell_type": "markdown",
   "id": "b40a59cf",
   "metadata": {},
   "source": [
    "## 1.设置GPU"
   ]
  },
  {
   "cell_type": "code",
   "execution_count": 1,
   "id": "b171b1c7",
   "metadata": {},
   "outputs": [],
   "source": [
    "import tensorflow as tf "
   ]
  },
  {
   "cell_type": "code",
   "execution_count": 2,
   "id": "5057a438",
   "metadata": {},
   "outputs": [],
   "source": [
    "gpus = tf.config.list_physical_devices(\"GPU\")"
   ]
  },
  {
   "cell_type": "code",
   "execution_count": 3,
   "id": "91638061",
   "metadata": {},
   "outputs": [],
   "source": [
    "if gpus:\n",
    "    gpu0 = gpus[0]\n",
    "    tf.config.experimental.set_memory_growth(gpu0, True)\n",
    "    tf.config.set_visible_devices([gpu0], \"GPU\")"
   ]
  },
  {
   "cell_type": "markdown",
   "id": "a1742aa3",
   "metadata": {},
   "source": [
    "## 2.导入数据"
   ]
  },
  {
   "cell_type": "code",
   "execution_count": 4,
   "id": "17c0f326",
   "metadata": {},
   "outputs": [],
   "source": [
    "from tensorflow.keras import datasets, layers, models\n",
    "import matplotlib.pyplot as plt"
   ]
  },
  {
   "cell_type": "code",
   "execution_count": 5,
   "id": "021ba82f",
   "metadata": {},
   "outputs": [],
   "source": [
    "(train_images, train_labels), (test_images, test_labels) = datasets.mnist.load_data()"
   ]
  },
  {
   "cell_type": "markdown",
   "id": "311975c8",
   "metadata": {},
   "source": [
    "## 3.归一化"
   ]
  },
  {
   "cell_type": "markdown",
   "id": "a90f3ae3",
   "metadata": {},
   "source": [
    "### 数据归一化的作用\n",
    "\n",
    "- 减小方差\n",
    "- 加快收敛速度"
   ]
  },
  {
   "cell_type": "code",
   "execution_count": 6,
   "id": "6dea9f2e",
   "metadata": {},
   "outputs": [
    {
     "data": {
      "text/plain": [
       "((60000, 28, 28), (10000, 28, 28), (60000,), (10000,))"
      ]
     },
     "execution_count": 6,
     "metadata": {},
     "output_type": "execute_result"
    }
   ],
   "source": [
    "# 将像素的值标准化至0到1区间内\n",
    "train_images, test_images = train_images / 255.0, test_images / 255.0\n",
    "# 查看数据维度信息\n",
    "train_images.shape, test_images.shape, train_labels.shape, test_labels.shape"
   ]
  },
  {
   "cell_type": "markdown",
   "id": "93076288",
   "metadata": {},
   "source": [
    "## 4.可视化数据集图片"
   ]
  },
  {
   "cell_type": "code",
   "execution_count": 8,
   "id": "85870731",
   "metadata": {},
   "outputs": [
    {
     "data": {
      "image/png": "[encoded data removed]",
      "text/plain": [
       "<Figure size 1440x360 with 20 Axes>"
      ]
     },
     "metadata": {},
     "output_type": "display_data"
    }
   ],
   "source": [
    "# 将数据集前20个图片可视化显示\n",
    "# 进行图像大小为20宽、10(5)长的绘图（单位为英寸inch）\n",
    "# (可能是屏幕分辨率的原因，这里我的长改成5)\n",
    "plt.figure(figsize=(20, 5))\n",
    "# 遍历MNIST数据集下标数值0~49\n",
    "for i in range(20):\n",
    "    # 将整个figure分成5行10列，绘制第i+1个子图\n",
    "    plt.subplot(2, 10, i+1)\n",
    "    # 设置x轴不显示刻度\n",
    "    plt.xticks([])\n",
    "    # 设置y轴不显示刻度\n",
    "    plt.yticks([])\n",
    "    # 设置不显示子图网格\n",
    "    plt.grid(False)\n",
    "    # 图像展示，cmp为颜色图谱，“plt.cm.binary”为matplotlib.cm中的色表\n",
    "    plt.imshow(train_images[i], cmap=plt.cm.binary)\n",
    "    # 设置x轴标签显示为图片对应的数字\n",
    "    plt.xlabel(train_labels[i])\n",
    "    \n",
    "# 显示图片\n",
    "plt.show()"
   ]
  },
  {
   "cell_type": "markdown",
   "id": "6f6339c6",
   "metadata": {},
   "source": [
    "## 5.调整图片格式"
   ]
  },
  {
   "cell_type": "code",
   "execution_count": 18,
   "id": "debe1ca8",
   "metadata": {},
   "outputs": [
    {
     "data": {
      "text/plain": [
       "((60000, 28, 28, 1), (10000, 28, 28, 1), (60000,), (10000,))"
      ]
     },
     "execution_count": 18,
     "metadata": {},
     "output_type": "execute_result"
    }
   ],
   "source": [
    "# 调整数据到我们需要的格式\n",
    "train_images = train_images.reshape((60000, 28, 28, 1))\n",
    "test_images = test_images.reshape((10000, 28, 28, 1))\n",
    "\n",
    "# print\n",
    "train_images.shape, test_images.shape, train_labels.shape, test_labels.shape"
   ]
  },
  {
   "cell_type": "markdown",
   "id": "d55de764",
   "metadata": {},
   "source": [
    "# 二、构建CNN网络模型"
   ]
  },
  {
   "cell_type": "markdown",
   "id": "8684db71",
   "metadata": {},
   "source": [
    "**网络结构图：**\n",
    "![CNN](./fig/cnn.jpg)"
   ]
  },
  {
   "cell_type": "code",
   "execution_count": 20,
   "id": "c2357219",
   "metadata": {},
   "outputs": [
    {
     "name": "stdout",
     "output_type": "stream",
     "text": [
      "Model: \"sequential\"\n",
      "_________________________________________________________________\n",
      " Layer (type)                Output Shape              Param #   \n",
      "=================================================================\n",
      " conv2d (Conv2D)             (None, 26, 26, 32)        320       \n",
      "                                                                 \n",
      " max_pooling2d (MaxPooling2D  (None, 13, 13, 32)       0         \n",
      " )                                                               \n",
      "                                                                 \n",
      " conv2d_1 (Conv2D)           (None, 11, 11, 64)        18496     \n",
      "                                                                 \n",
      " max_pooling2d_1 (MaxPooling  (None, 5, 5, 64)         0         \n",
      " 2D)                                                             \n",
      "                                                                 \n",
      " flatten (Flatten)           (None, 1600)              0         \n",
      "                                                                 \n",
      " dense (Dense)               (None, 64)                102464    \n",
      "                                                                 \n",
      " dense_1 (Dense)             (None, 10)                650       \n",
      "                                                                 \n",
      "=================================================================\n",
      "Total params: 121,930\n",
      "Trainable params: 121,930\n",
      "Non-trainable params: 0\n",
      "_________________________________________________________________\n"
     ]
    }
   ],
   "source": [
    "# 使用卷积网络来实现图像识别\n",
    "# 卷积层：通过卷积操作对图像进行降维和特征提取\n",
    "# 池化层：是一种非线性形式的下采样。主要用于特征降维，压缩数据和参数的数量，减小过拟合，同时提高模型的鲁棒性。\n",
    "# 全连接层：在经过几个卷积和池化层之后，神经网络中的高级推理通过全连接层来完成。\n",
    "model = models.Sequential([\n",
    "    # 设置二维卷积层1，设置32个3*3的卷积核，activation参数将激活函数设置为ReLu函数，\n",
    "    # input_shape参数将图层的输入形状设置为（28，28，1）\n",
    "    # ReLu函数作为激活函数可以增强判定函数和整个神经网络的非线性特性，而本身不会改变卷积层\n",
    "    # 相比其他函数来说，ReLu函数更青睐，因为够简单，能够提升网络的训练速度，而不会影响模型的泛化性\n",
    "    layers.Conv2D(32, (3, 3), activation='relu', input_shape=(28, 28, 1)),\n",
    "    # 池化层1, 2*2采样\n",
    "    layers.MaxPooling2D((2, 2)),\n",
    "    # 设置二维卷积层2，设置64个3*3的卷积核，activation参数将激活函数设置为ReLu函数\n",
    "    layers.Conv2D(64, (3, 3), activation='relu', input_shape=(28, 28, 1)),\n",
    "    # 池化层2, 2*2采样\n",
    "    layers.MaxPooling2D((2, 2)),\n",
    "    \n",
    "    layers.Flatten(),\n",
    "    layers.Dense(64, activation='relu'),\n",
    "    layers.Dense(10) # 有十个手写数字\n",
    "])\n",
    "\n",
    "model.summary()"
   ]
  },
  {
   "cell_type": "markdown",
   "id": "7621ce9f",
   "metadata": {},
   "source": [
    "# 三、编译模型"
   ]
  },
  {
   "cell_type": "code",
   "execution_count": 23,
   "id": "e9c3a015",
   "metadata": {},
   "outputs": [],
   "source": [
    "# model.compile()方法用于在配置训练方法时，告知训练时用的优化器，损失函数和准确率评测标准\n",
    "model.compile(\n",
    "    # Adam 优化器\n",
    "    optimizer='adam',\n",
    "    # 设置交叉熵损失函数\n",
    "    # from——logits为True时，会将y_pred转化为概率（softmax）\n",
    "    loss=tf.keras.losses.SparseCategoricalCrossentropy(from_logits=True), \n",
    "    # 设置性能指标列表，将在模型训练时监控列表中的指标\n",
    "    metrics=['accuracy'])"
   ]
  },
  {
   "cell_type": "markdown",
   "id": "f6b643db",
   "metadata": {},
   "source": [
    "# 四、训练模型"
   ]
  },
  {
   "cell_type": "code",
   "execution_count": 24,
   "id": "050ede87",
   "metadata": {},
   "outputs": [
    {
     "name": "stdout",
     "output_type": "stream",
     "text": [
      "Epoch 1/10\n",
      "1875/1875 [==============================] - 14s 7ms/step - loss: 0.1399 - accuracy: 0.9577 - val_loss: 0.0497 - val_accuracy: 0.9837\n",
      "Epoch 2/10\n",
      "1875/1875 [==============================] - 13s 7ms/step - loss: 0.0455 - accuracy: 0.9854 - val_loss: 0.0397 - val_accuracy: 0.9872\n",
      "Epoch 3/10\n",
      "1875/1875 [==============================] - 13s 7ms/step - loss: 0.0325 - accuracy: 0.9901 - val_loss: 0.0361 - val_accuracy: 0.9874\n",
      "Epoch 4/10\n",
      "1875/1875 [==============================] - 13s 7ms/step - loss: 0.0233 - accuracy: 0.9926 - val_loss: 0.0332 - val_accuracy: 0.9890\n",
      "Epoch 5/10\n",
      "1875/1875 [==============================] - 13s 7ms/step - loss: 0.0178 - accuracy: 0.9941 - val_loss: 0.0328 - val_accuracy: 0.9886\n",
      "Epoch 6/10\n",
      "1875/1875 [==============================] - 14s 7ms/step - loss: 0.0140 - accuracy: 0.9954 - val_loss: 0.0365 - val_accuracy: 0.9900\n",
      "Epoch 7/10\n",
      "1875/1875 [==============================] - 13s 7ms/step - loss: 0.0115 - accuracy: 0.9961 - val_loss: 0.0268 - val_accuracy: 0.9902\n",
      "Epoch 8/10\n",
      "1875/1875 [==============================] - 14s 7ms/step - loss: 0.0092 - accuracy: 0.9969 - val_loss: 0.0385 - val_accuracy: 0.9890\n",
      "Epoch 9/10\n",
      "1875/1875 [==============================] - 14s 7ms/step - loss: 0.0073 - accuracy: 0.9980 - val_loss: 0.0363 - val_accuracy: 0.9901\n",
      "Epoch 10/10\n",
      "1875/1875 [==============================] - 14s 7ms/step - loss: 0.0081 - accuracy: 0.9973 - val_loss: 0.0339 - val_accuracy: 0.9912\n"
     ]
    }
   ],
   "source": [
    "history = model.fit(\n",
    "    # 输入训练集图片\n",
    "    train_images, \n",
    "    # 标签\n",
    "    train_labels,\n",
    "    # 设置10个epoch，每一个epoch都将会把所有的数据输入模型完成一次训练\n",
    "    epochs=10,\n",
    "    # 设置验证集\n",
    "    validation_data=(test_images, test_labels))"
   ]
  },
  {
   "cell_type": "markdown",
   "id": "08118891",
   "metadata": {},
   "source": [
    "# 五、预测\n",
    "![predict](./fig/predict.jpg)"
   ]
  },
  {
   "cell_type": "code",
   "execution_count": 45,
   "id": "6a649243",
   "metadata": {},
   "outputs": [
    {
     "data": {
      "text/plain": [
       "<matplotlib.image.AxesImage at 0x27b89639760>"
      ]
     },
     "execution_count": 45,
     "metadata": {},
     "output_type": "execute_result"
    },
    {
     "data": {
      "image/png": "[encoded data removed]",
      "text/plain": [
       "<Figure size 432x288 with 1 Axes>"
      ]
     },
     "metadata": {
      "needs_background": "light"
     },
     "output_type": "display_data"
    }
   ],
   "source": [
    "plt.imshow(test_images[100])"
   ]
  },
  {
   "cell_type": "code",
   "execution_count": 26,
   "id": "a4be9670",
   "metadata": {},
   "outputs": [],
   "source": [
    "pre = model.predict(test_images)"
   ]
  },
  {
   "cell_type": "code",
   "execution_count": 46,
   "id": "814a7bf8",
   "metadata": {},
   "outputs": [
    {
     "data": {
      "text/plain": [
       "array([  5.9135103, -14.301079 , -17.476717 , -11.305802 ,  -2.4223704,\n",
       "        -1.7675155,  28.541172 , -16.614574 ,   6.7781134, -22.735596 ],\n",
       "      dtype=float32)"
      ]
     },
     "execution_count": 46,
     "metadata": {},
     "output_type": "execute_result"
    }
   ],
   "source": [
    "pre[100]"
   ]
  },
  {
   "cell_type": "code",
   "execution_count": 29,
   "id": "3146be2a",
   "metadata": {},
   "outputs": [
    {
     "data": {
      "text/plain": [
       "10000"
      ]
     },
     "execution_count": 29,
     "metadata": {},
     "output_type": "execute_result"
    }
   ],
   "source": [
    "test_images.shape[0]"
   ]
  },
  {
   "cell_type": "code",
   "execution_count": 43,
   "id": "ad100627",
   "metadata": {},
   "outputs": [],
   "source": [
    "def predict_num(model, test_data, index):\n",
    "    pre = model.predict(test_data)\n",
    "    num, ph = 0, 0;\n",
    "    for i, p in enumerate(pre[index]):\n",
    "        if p > ph:\n",
    "            ph = p\n",
    "            num = i\n",
    "            \n",
    "    return num, ph"
   ]
  },
  {
   "cell_type": "code",
   "execution_count": 48,
   "id": "a78ff7a3",
   "metadata": {},
   "outputs": [
    {
     "data": {
      "text/plain": [
       "(0, 26.312767)"
      ]
     },
     "execution_count": 48,
     "metadata": {},
     "output_type": "execute_result"
    }
   ],
   "source": [
    "predict_num(model, test_images, 13)"
   ]
  },
  {
   "cell_type": "code",
   "execution_count": null,
   "id": "1e426484",
   "metadata": {},
   "outputs": [],
   "source": []
  }
 ],
 "metadata": {
  "kernelspec": {
   "display_name": "Python 3 (ipykernel)",
   "language": "python",
   "name": "python3"
  },
  "language_info": {
   "codemirror_mode": {
    "name": "ipython",
    "version": 3
   },
   "file_extension": ".py",
   "mimetype": "text/x-python",
   "name": "python",
   "nbconvert_exporter": "python",
   "pygments_lexer": "ipython3",
   "version": "3.9.9"
  }
 },
 "nbformat": 4,
 "nbformat_minor": 5
}
